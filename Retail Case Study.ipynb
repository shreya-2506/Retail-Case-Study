{
 "cells": [
  {
   "cell_type": "markdown",
   "metadata": {},
   "source": [
    "### 1. Merge the datasets Customers, Product Hierarchy and Transactions as Customer_Final. Ensure to keep all customers who have done transactions with us and select the join type accordingly."
   ]
  },
  {
   "cell_type": "code",
   "execution_count": 138,
   "metadata": {},
   "outputs": [],
   "source": [
    "import pandas as pd\n",
    "import numpy as np\n",
    "import matplotlib.pyplot as plt"
   ]
  },
  {
   "cell_type": "code",
   "execution_count": 86,
   "metadata": {},
   "outputs": [],
   "source": [
    "customers=pd.read_csv(\"C:/Python/Class/Exercise/Exercise/3. Pandas Case Study 1 - Retail Case Study/Customer.csv\")\n",
    "prod_hier=pd.read_csv(\"C:/Python/Class/Exercise/Exercise/3. Pandas Case Study 1 - Retail Case Study/prod_cat_info.csv\")\n",
    "transactions=pd.read_csv(\"C:/Python/Class/Exercise/Exercise/3. Pandas Case Study 1 - Retail Case Study/Transactions.csv\")"
   ]
  },
  {
   "cell_type": "code",
   "execution_count": 113,
   "metadata": {},
   "outputs": [],
   "source": [
    "# renaming \"prod_sub_cat_code\" column in 'prod_info' table to make it similar to 'transaction' table\n",
    "# to merge the both the tables easily\n",
    "prod_hier.rename(columns={\"prod_sub_cat_code\":\"prod_subcat_code\"},inplace=True)"
   ]
  },
  {
   "cell_type": "code",
   "execution_count": 117,
   "metadata": {},
   "outputs": [],
   "source": [
    "customer_final = pd.merge(left=transactions, right=prod_hier\n",
    "                          ,on=[\"prod_cat_code\",\"prod_subcat_code\"],how=\"left\")"
   ]
  },
  {
   "cell_type": "code",
   "execution_count": 118,
   "metadata": {
    "scrolled": true
   },
   "outputs": [
    {
     "data": {
      "text/html": [
       "<div>\n",
       "<style scoped>\n",
       "    .dataframe tbody tr th:only-of-type {\n",
       "        vertical-align: middle;\n",
       "    }\n",
       "\n",
       "    .dataframe tbody tr th {\n",
       "        vertical-align: top;\n",
       "    }\n",
       "\n",
       "    .dataframe thead th {\n",
       "        text-align: right;\n",
       "    }\n",
       "</style>\n",
       "<table border=\"1\" class=\"dataframe\">\n",
       "  <thead>\n",
       "    <tr style=\"text-align: right;\">\n",
       "      <th></th>\n",
       "      <th>customer_Id</th>\n",
       "      <th>DOB</th>\n",
       "      <th>Gender</th>\n",
       "      <th>city_code</th>\n",
       "      <th>transaction_id</th>\n",
       "      <th>cust_id</th>\n",
       "      <th>tran_date</th>\n",
       "      <th>prod_subcat_code</th>\n",
       "      <th>prod_cat_code</th>\n",
       "      <th>Qty</th>\n",
       "      <th>Rate</th>\n",
       "      <th>Tax</th>\n",
       "      <th>total_amt</th>\n",
       "      <th>Store_type</th>\n",
       "      <th>prod_cat</th>\n",
       "      <th>prod_subcat</th>\n",
       "    </tr>\n",
       "  </thead>\n",
       "  <tbody>\n",
       "    <tr>\n",
       "      <td>0</td>\n",
       "      <td>268408</td>\n",
       "      <td>02-01-1970</td>\n",
       "      <td>M</td>\n",
       "      <td>4.0</td>\n",
       "      <td>87243835584</td>\n",
       "      <td>268408</td>\n",
       "      <td>13-01-2014</td>\n",
       "      <td>7</td>\n",
       "      <td>5</td>\n",
       "      <td>5</td>\n",
       "      <td>187</td>\n",
       "      <td>98.175</td>\n",
       "      <td>1033.175</td>\n",
       "      <td>TeleShop</td>\n",
       "      <td>Books</td>\n",
       "      <td>Fiction</td>\n",
       "    </tr>\n",
       "    <tr>\n",
       "      <td>1</td>\n",
       "      <td>268408</td>\n",
       "      <td>02-01-1970</td>\n",
       "      <td>M</td>\n",
       "      <td>4.0</td>\n",
       "      <td>16197868036</td>\n",
       "      <td>268408</td>\n",
       "      <td>16-12-2013</td>\n",
       "      <td>1</td>\n",
       "      <td>4</td>\n",
       "      <td>-5</td>\n",
       "      <td>-210</td>\n",
       "      <td>110.250</td>\n",
       "      <td>-1160.250</td>\n",
       "      <td>Flagship store</td>\n",
       "      <td>Bags</td>\n",
       "      <td>Mens</td>\n",
       "    </tr>\n",
       "    <tr>\n",
       "      <td>2</td>\n",
       "      <td>268408</td>\n",
       "      <td>02-01-1970</td>\n",
       "      <td>M</td>\n",
       "      <td>4.0</td>\n",
       "      <td>16197868036</td>\n",
       "      <td>268408</td>\n",
       "      <td>12/12/2013</td>\n",
       "      <td>1</td>\n",
       "      <td>4</td>\n",
       "      <td>5</td>\n",
       "      <td>210</td>\n",
       "      <td>110.250</td>\n",
       "      <td>1160.250</td>\n",
       "      <td>Flagship store</td>\n",
       "      <td>Bags</td>\n",
       "      <td>Mens</td>\n",
       "    </tr>\n",
       "    <tr>\n",
       "      <td>3</td>\n",
       "      <td>268408</td>\n",
       "      <td>02-01-1970</td>\n",
       "      <td>M</td>\n",
       "      <td>4.0</td>\n",
       "      <td>28810141075</td>\n",
       "      <td>268408</td>\n",
       "      <td>2/9/2013</td>\n",
       "      <td>10</td>\n",
       "      <td>6</td>\n",
       "      <td>2</td>\n",
       "      <td>813</td>\n",
       "      <td>170.730</td>\n",
       "      <td>1796.730</td>\n",
       "      <td>TeleShop</td>\n",
       "      <td>Home and kitchen</td>\n",
       "      <td>Kitchen</td>\n",
       "    </tr>\n",
       "    <tr>\n",
       "      <td>4</td>\n",
       "      <td>268408</td>\n",
       "      <td>02-01-1970</td>\n",
       "      <td>M</td>\n",
       "      <td>4.0</td>\n",
       "      <td>64633435931</td>\n",
       "      <td>268408</td>\n",
       "      <td>6/5/2013</td>\n",
       "      <td>4</td>\n",
       "      <td>2</td>\n",
       "      <td>3</td>\n",
       "      <td>312</td>\n",
       "      <td>98.280</td>\n",
       "      <td>1034.280</td>\n",
       "      <td>Flagship store</td>\n",
       "      <td>Footwear</td>\n",
       "      <td>Kids</td>\n",
       "    </tr>\n",
       "  </tbody>\n",
       "</table>\n",
       "</div>"
      ],
      "text/plain": [
       "   customer_Id         DOB Gender  city_code  transaction_id  cust_id  \\\n",
       "0       268408  02-01-1970      M        4.0     87243835584   268408   \n",
       "1       268408  02-01-1970      M        4.0     16197868036   268408   \n",
       "2       268408  02-01-1970      M        4.0     16197868036   268408   \n",
       "3       268408  02-01-1970      M        4.0     28810141075   268408   \n",
       "4       268408  02-01-1970      M        4.0     64633435931   268408   \n",
       "\n",
       "    tran_date  prod_subcat_code  prod_cat_code  Qty  Rate      Tax  total_amt  \\\n",
       "0  13-01-2014                 7              5    5   187   98.175   1033.175   \n",
       "1  16-12-2013                 1              4   -5  -210  110.250  -1160.250   \n",
       "2  12/12/2013                 1              4    5   210  110.250   1160.250   \n",
       "3    2/9/2013                10              6    2   813  170.730   1796.730   \n",
       "4    6/5/2013                 4              2    3   312   98.280   1034.280   \n",
       "\n",
       "       Store_type          prod_cat prod_subcat  \n",
       "0        TeleShop             Books     Fiction  \n",
       "1  Flagship store              Bags        Mens  \n",
       "2  Flagship store              Bags        Mens  \n",
       "3        TeleShop  Home and kitchen     Kitchen  \n",
       "4  Flagship store          Footwear        Kids  "
      ]
     },
     "execution_count": 118,
     "metadata": {},
     "output_type": "execute_result"
    }
   ],
   "source": [
    "customer_final=pd.merge(left=customers,right=customer_final,\n",
    "         left_on=\"customer_Id\",\n",
    "         right_on=\"cust_id\",\n",
    "         how=\"right\")\n",
    "\n",
    "customer_final.head()"
   ]
  },
  {
   "cell_type": "code",
   "execution_count": 127,
   "metadata": {},
   "outputs": [],
   "source": [
    " #converting \"DOB\" and \"tran_date\" from object dtype to dates\n",
    "customer_final[\"DOB\"] = pd.to_datetime(customer_final[\"DOB\"])\n",
    "customer_final[\"tran_date\"] = pd.to_datetime(customer_final[\"tran_date\"])"
   ]
  },
  {
   "cell_type": "markdown",
   "metadata": {},
   "source": [
    "### 2. Prepare a summary report for the merged data set.  \n",
    "### a. Get the column names and their corresponding data types"
   ]
  },
  {
   "cell_type": "code",
   "execution_count": 128,
   "metadata": {},
   "outputs": [
    {
     "data": {
      "text/plain": [
       "customer_Id                  int64\n",
       "DOB                 datetime64[ns]\n",
       "Gender                      object\n",
       "city_code                  float64\n",
       "transaction_id               int64\n",
       "cust_id                      int64\n",
       "tran_date           datetime64[ns]\n",
       "prod_subcat_code             int64\n",
       "prod_cat_code                int64\n",
       "Qty                          int64\n",
       "Rate                         int64\n",
       "Tax                        float64\n",
       "total_amt                  float64\n",
       "Store_type                  object\n",
       "prod_cat                    object\n",
       "prod_subcat                 object\n",
       "dtype: object"
      ]
     },
     "execution_count": 128,
     "metadata": {},
     "output_type": "execute_result"
    }
   ],
   "source": [
    "customer_final.dtypes"
   ]
  },
  {
   "cell_type": "markdown",
   "metadata": {},
   "source": [
    "###  b. Top/Bottom 10 observations"
   ]
  },
  {
   "cell_type": "code",
   "execution_count": 129,
   "metadata": {},
   "outputs": [
    {
     "data": {
      "text/html": [
       "<div>\n",
       "<style scoped>\n",
       "    .dataframe tbody tr th:only-of-type {\n",
       "        vertical-align: middle;\n",
       "    }\n",
       "\n",
       "    .dataframe tbody tr th {\n",
       "        vertical-align: top;\n",
       "    }\n",
       "\n",
       "    .dataframe thead th {\n",
       "        text-align: right;\n",
       "    }\n",
       "</style>\n",
       "<table border=\"1\" class=\"dataframe\">\n",
       "  <thead>\n",
       "    <tr style=\"text-align: right;\">\n",
       "      <th></th>\n",
       "      <th>customer_Id</th>\n",
       "      <th>DOB</th>\n",
       "      <th>Gender</th>\n",
       "      <th>city_code</th>\n",
       "      <th>transaction_id</th>\n",
       "      <th>cust_id</th>\n",
       "      <th>tran_date</th>\n",
       "      <th>prod_subcat_code</th>\n",
       "      <th>prod_cat_code</th>\n",
       "      <th>Qty</th>\n",
       "      <th>Rate</th>\n",
       "      <th>Tax</th>\n",
       "      <th>total_amt</th>\n",
       "      <th>Store_type</th>\n",
       "      <th>prod_cat</th>\n",
       "      <th>prod_subcat</th>\n",
       "    </tr>\n",
       "  </thead>\n",
       "  <tbody>\n",
       "    <tr>\n",
       "      <td>0</td>\n",
       "      <td>268408</td>\n",
       "      <td>1970-01-02</td>\n",
       "      <td>M</td>\n",
       "      <td>4.0</td>\n",
       "      <td>87243835584</td>\n",
       "      <td>268408</td>\n",
       "      <td>2014-01-13</td>\n",
       "      <td>7</td>\n",
       "      <td>5</td>\n",
       "      <td>5</td>\n",
       "      <td>187</td>\n",
       "      <td>98.175</td>\n",
       "      <td>1033.175</td>\n",
       "      <td>TeleShop</td>\n",
       "      <td>Books</td>\n",
       "      <td>Fiction</td>\n",
       "    </tr>\n",
       "    <tr>\n",
       "      <td>1</td>\n",
       "      <td>268408</td>\n",
       "      <td>1970-01-02</td>\n",
       "      <td>M</td>\n",
       "      <td>4.0</td>\n",
       "      <td>16197868036</td>\n",
       "      <td>268408</td>\n",
       "      <td>2013-12-16</td>\n",
       "      <td>1</td>\n",
       "      <td>4</td>\n",
       "      <td>-5</td>\n",
       "      <td>-210</td>\n",
       "      <td>110.250</td>\n",
       "      <td>-1160.250</td>\n",
       "      <td>Flagship store</td>\n",
       "      <td>Bags</td>\n",
       "      <td>Mens</td>\n",
       "    </tr>\n",
       "    <tr>\n",
       "      <td>2</td>\n",
       "      <td>268408</td>\n",
       "      <td>1970-01-02</td>\n",
       "      <td>M</td>\n",
       "      <td>4.0</td>\n",
       "      <td>16197868036</td>\n",
       "      <td>268408</td>\n",
       "      <td>2013-12-12</td>\n",
       "      <td>1</td>\n",
       "      <td>4</td>\n",
       "      <td>5</td>\n",
       "      <td>210</td>\n",
       "      <td>110.250</td>\n",
       "      <td>1160.250</td>\n",
       "      <td>Flagship store</td>\n",
       "      <td>Bags</td>\n",
       "      <td>Mens</td>\n",
       "    </tr>\n",
       "    <tr>\n",
       "      <td>3</td>\n",
       "      <td>268408</td>\n",
       "      <td>1970-01-02</td>\n",
       "      <td>M</td>\n",
       "      <td>4.0</td>\n",
       "      <td>28810141075</td>\n",
       "      <td>268408</td>\n",
       "      <td>2013-02-09</td>\n",
       "      <td>10</td>\n",
       "      <td>6</td>\n",
       "      <td>2</td>\n",
       "      <td>813</td>\n",
       "      <td>170.730</td>\n",
       "      <td>1796.730</td>\n",
       "      <td>TeleShop</td>\n",
       "      <td>Home and kitchen</td>\n",
       "      <td>Kitchen</td>\n",
       "    </tr>\n",
       "    <tr>\n",
       "      <td>4</td>\n",
       "      <td>268408</td>\n",
       "      <td>1970-01-02</td>\n",
       "      <td>M</td>\n",
       "      <td>4.0</td>\n",
       "      <td>64633435931</td>\n",
       "      <td>268408</td>\n",
       "      <td>2013-06-05</td>\n",
       "      <td>4</td>\n",
       "      <td>2</td>\n",
       "      <td>3</td>\n",
       "      <td>312</td>\n",
       "      <td>98.280</td>\n",
       "      <td>1034.280</td>\n",
       "      <td>Flagship store</td>\n",
       "      <td>Footwear</td>\n",
       "      <td>Kids</td>\n",
       "    </tr>\n",
       "    <tr>\n",
       "      <td>5</td>\n",
       "      <td>268408</td>\n",
       "      <td>1970-01-02</td>\n",
       "      <td>M</td>\n",
       "      <td>4.0</td>\n",
       "      <td>56902862040</td>\n",
       "      <td>268408</td>\n",
       "      <td>2013-01-30</td>\n",
       "      <td>9</td>\n",
       "      <td>3</td>\n",
       "      <td>5</td>\n",
       "      <td>868</td>\n",
       "      <td>455.700</td>\n",
       "      <td>4795.700</td>\n",
       "      <td>e-Shop</td>\n",
       "      <td>Electronics</td>\n",
       "      <td>Cameras</td>\n",
       "    </tr>\n",
       "    <tr>\n",
       "      <td>6</td>\n",
       "      <td>268408</td>\n",
       "      <td>1970-01-02</td>\n",
       "      <td>M</td>\n",
       "      <td>4.0</td>\n",
       "      <td>56844530655</td>\n",
       "      <td>268408</td>\n",
       "      <td>2012-10-14</td>\n",
       "      <td>1</td>\n",
       "      <td>2</td>\n",
       "      <td>5</td>\n",
       "      <td>1175</td>\n",
       "      <td>616.875</td>\n",
       "      <td>6491.875</td>\n",
       "      <td>MBR</td>\n",
       "      <td>Footwear</td>\n",
       "      <td>Mens</td>\n",
       "    </tr>\n",
       "    <tr>\n",
       "      <td>7</td>\n",
       "      <td>268408</td>\n",
       "      <td>1970-01-02</td>\n",
       "      <td>M</td>\n",
       "      <td>4.0</td>\n",
       "      <td>19516063887</td>\n",
       "      <td>268408</td>\n",
       "      <td>2012-07-09</td>\n",
       "      <td>10</td>\n",
       "      <td>3</td>\n",
       "      <td>4</td>\n",
       "      <td>650</td>\n",
       "      <td>273.000</td>\n",
       "      <td>2873.000</td>\n",
       "      <td>e-Shop</td>\n",
       "      <td>Electronics</td>\n",
       "      <td>Audio and video</td>\n",
       "    </tr>\n",
       "    <tr>\n",
       "      <td>8</td>\n",
       "      <td>268408</td>\n",
       "      <td>1970-01-02</td>\n",
       "      <td>M</td>\n",
       "      <td>4.0</td>\n",
       "      <td>12644501524</td>\n",
       "      <td>268408</td>\n",
       "      <td>2012-08-14</td>\n",
       "      <td>4</td>\n",
       "      <td>4</td>\n",
       "      <td>3</td>\n",
       "      <td>321</td>\n",
       "      <td>101.115</td>\n",
       "      <td>1064.115</td>\n",
       "      <td>TeleShop</td>\n",
       "      <td>Bags</td>\n",
       "      <td>Women</td>\n",
       "    </tr>\n",
       "    <tr>\n",
       "      <td>9</td>\n",
       "      <td>268408</td>\n",
       "      <td>1970-01-02</td>\n",
       "      <td>M</td>\n",
       "      <td>4.0</td>\n",
       "      <td>63314547725</td>\n",
       "      <td>268408</td>\n",
       "      <td>2012-04-26</td>\n",
       "      <td>1</td>\n",
       "      <td>1</td>\n",
       "      <td>1</td>\n",
       "      <td>806</td>\n",
       "      <td>84.630</td>\n",
       "      <td>890.630</td>\n",
       "      <td>Flagship store</td>\n",
       "      <td>Clothing</td>\n",
       "      <td>Women</td>\n",
       "    </tr>\n",
       "  </tbody>\n",
       "</table>\n",
       "</div>"
      ],
      "text/plain": [
       "   customer_Id        DOB Gender  city_code  transaction_id  cust_id  \\\n",
       "0       268408 1970-01-02      M        4.0     87243835584   268408   \n",
       "1       268408 1970-01-02      M        4.0     16197868036   268408   \n",
       "2       268408 1970-01-02      M        4.0     16197868036   268408   \n",
       "3       268408 1970-01-02      M        4.0     28810141075   268408   \n",
       "4       268408 1970-01-02      M        4.0     64633435931   268408   \n",
       "5       268408 1970-01-02      M        4.0     56902862040   268408   \n",
       "6       268408 1970-01-02      M        4.0     56844530655   268408   \n",
       "7       268408 1970-01-02      M        4.0     19516063887   268408   \n",
       "8       268408 1970-01-02      M        4.0     12644501524   268408   \n",
       "9       268408 1970-01-02      M        4.0     63314547725   268408   \n",
       "\n",
       "   tran_date  prod_subcat_code  prod_cat_code  Qty  Rate      Tax  total_amt  \\\n",
       "0 2014-01-13                 7              5    5   187   98.175   1033.175   \n",
       "1 2013-12-16                 1              4   -5  -210  110.250  -1160.250   \n",
       "2 2013-12-12                 1              4    5   210  110.250   1160.250   \n",
       "3 2013-02-09                10              6    2   813  170.730   1796.730   \n",
       "4 2013-06-05                 4              2    3   312   98.280   1034.280   \n",
       "5 2013-01-30                 9              3    5   868  455.700   4795.700   \n",
       "6 2012-10-14                 1              2    5  1175  616.875   6491.875   \n",
       "7 2012-07-09                10              3    4   650  273.000   2873.000   \n",
       "8 2012-08-14                 4              4    3   321  101.115   1064.115   \n",
       "9 2012-04-26                 1              1    1   806   84.630    890.630   \n",
       "\n",
       "       Store_type          prod_cat      prod_subcat  \n",
       "0        TeleShop             Books          Fiction  \n",
       "1  Flagship store              Bags             Mens  \n",
       "2  Flagship store              Bags             Mens  \n",
       "3        TeleShop  Home and kitchen          Kitchen  \n",
       "4  Flagship store          Footwear             Kids  \n",
       "5          e-Shop       Electronics          Cameras  \n",
       "6             MBR          Footwear             Mens  \n",
       "7          e-Shop       Electronics  Audio and video  \n",
       "8        TeleShop              Bags            Women  \n",
       "9  Flagship store          Clothing            Women  "
      ]
     },
     "execution_count": 129,
     "metadata": {},
     "output_type": "execute_result"
    }
   ],
   "source": [
    "customer_final.head(10)"
   ]
  },
  {
   "cell_type": "code",
   "execution_count": 130,
   "metadata": {},
   "outputs": [
    {
     "data": {
      "text/html": [
       "<div>\n",
       "<style scoped>\n",
       "    .dataframe tbody tr th:only-of-type {\n",
       "        vertical-align: middle;\n",
       "    }\n",
       "\n",
       "    .dataframe tbody tr th {\n",
       "        vertical-align: top;\n",
       "    }\n",
       "\n",
       "    .dataframe thead th {\n",
       "        text-align: right;\n",
       "    }\n",
       "</style>\n",
       "<table border=\"1\" class=\"dataframe\">\n",
       "  <thead>\n",
       "    <tr style=\"text-align: right;\">\n",
       "      <th></th>\n",
       "      <th>customer_Id</th>\n",
       "      <th>DOB</th>\n",
       "      <th>Gender</th>\n",
       "      <th>city_code</th>\n",
       "      <th>transaction_id</th>\n",
       "      <th>cust_id</th>\n",
       "      <th>tran_date</th>\n",
       "      <th>prod_subcat_code</th>\n",
       "      <th>prod_cat_code</th>\n",
       "      <th>Qty</th>\n",
       "      <th>Rate</th>\n",
       "      <th>Tax</th>\n",
       "      <th>total_amt</th>\n",
       "      <th>Store_type</th>\n",
       "      <th>prod_cat</th>\n",
       "      <th>prod_subcat</th>\n",
       "    </tr>\n",
       "  </thead>\n",
       "  <tbody>\n",
       "    <tr>\n",
       "      <td>23043</td>\n",
       "      <td>270476</td>\n",
       "      <td>1992-12-25</td>\n",
       "      <td>F</td>\n",
       "      <td>3.0</td>\n",
       "      <td>78034405353</td>\n",
       "      <td>270476</td>\n",
       "      <td>2013-08-13</td>\n",
       "      <td>11</td>\n",
       "      <td>6</td>\n",
       "      <td>1</td>\n",
       "      <td>971</td>\n",
       "      <td>101.955</td>\n",
       "      <td>1072.955</td>\n",
       "      <td>TeleShop</td>\n",
       "      <td>Home and kitchen</td>\n",
       "      <td>Bath</td>\n",
       "    </tr>\n",
       "    <tr>\n",
       "      <td>23044</td>\n",
       "      <td>270476</td>\n",
       "      <td>1992-12-25</td>\n",
       "      <td>F</td>\n",
       "      <td>3.0</td>\n",
       "      <td>3359888057</td>\n",
       "      <td>270476</td>\n",
       "      <td>2013-03-16</td>\n",
       "      <td>10</td>\n",
       "      <td>3</td>\n",
       "      <td>4</td>\n",
       "      <td>361</td>\n",
       "      <td>151.620</td>\n",
       "      <td>1595.620</td>\n",
       "      <td>MBR</td>\n",
       "      <td>Electronics</td>\n",
       "      <td>Audio and video</td>\n",
       "    </tr>\n",
       "    <tr>\n",
       "      <td>23045</td>\n",
       "      <td>270476</td>\n",
       "      <td>1992-12-25</td>\n",
       "      <td>F</td>\n",
       "      <td>3.0</td>\n",
       "      <td>22883386455</td>\n",
       "      <td>270476</td>\n",
       "      <td>2012-05-22</td>\n",
       "      <td>4</td>\n",
       "      <td>2</td>\n",
       "      <td>4</td>\n",
       "      <td>898</td>\n",
       "      <td>377.160</td>\n",
       "      <td>3969.160</td>\n",
       "      <td>Flagship store</td>\n",
       "      <td>Footwear</td>\n",
       "      <td>Kids</td>\n",
       "    </tr>\n",
       "    <tr>\n",
       "      <td>23046</td>\n",
       "      <td>270476</td>\n",
       "      <td>1992-12-25</td>\n",
       "      <td>F</td>\n",
       "      <td>3.0</td>\n",
       "      <td>19725194268</td>\n",
       "      <td>270476</td>\n",
       "      <td>2012-02-21</td>\n",
       "      <td>4</td>\n",
       "      <td>4</td>\n",
       "      <td>4</td>\n",
       "      <td>618</td>\n",
       "      <td>259.560</td>\n",
       "      <td>2731.560</td>\n",
       "      <td>e-Shop</td>\n",
       "      <td>Bags</td>\n",
       "      <td>Women</td>\n",
       "    </tr>\n",
       "    <tr>\n",
       "      <td>23047</td>\n",
       "      <td>270476</td>\n",
       "      <td>1992-12-25</td>\n",
       "      <td>F</td>\n",
       "      <td>3.0</td>\n",
       "      <td>85475160771</td>\n",
       "      <td>270476</td>\n",
       "      <td>2011-09-08</td>\n",
       "      <td>5</td>\n",
       "      <td>3</td>\n",
       "      <td>5</td>\n",
       "      <td>1354</td>\n",
       "      <td>710.850</td>\n",
       "      <td>7480.850</td>\n",
       "      <td>Flagship store</td>\n",
       "      <td>Electronics</td>\n",
       "      <td>Computers</td>\n",
       "    </tr>\n",
       "    <tr>\n",
       "      <td>23048</td>\n",
       "      <td>269626</td>\n",
       "      <td>1992-12-27</td>\n",
       "      <td>F</td>\n",
       "      <td>5.0</td>\n",
       "      <td>71369029396</td>\n",
       "      <td>269626</td>\n",
       "      <td>2011-10-18</td>\n",
       "      <td>12</td>\n",
       "      <td>6</td>\n",
       "      <td>1</td>\n",
       "      <td>638</td>\n",
       "      <td>66.990</td>\n",
       "      <td>704.990</td>\n",
       "      <td>e-Shop</td>\n",
       "      <td>Home and kitchen</td>\n",
       "      <td>Tools</td>\n",
       "    </tr>\n",
       "    <tr>\n",
       "      <td>23049</td>\n",
       "      <td>269626</td>\n",
       "      <td>1992-12-27</td>\n",
       "      <td>F</td>\n",
       "      <td>5.0</td>\n",
       "      <td>94134051896</td>\n",
       "      <td>269626</td>\n",
       "      <td>2011-07-07</td>\n",
       "      <td>3</td>\n",
       "      <td>1</td>\n",
       "      <td>3</td>\n",
       "      <td>1078</td>\n",
       "      <td>339.570</td>\n",
       "      <td>3573.570</td>\n",
       "      <td>MBR</td>\n",
       "      <td>Clothing</td>\n",
       "      <td>Kids</td>\n",
       "    </tr>\n",
       "    <tr>\n",
       "      <td>23050</td>\n",
       "      <td>274308</td>\n",
       "      <td>1992-12-29</td>\n",
       "      <td>F</td>\n",
       "      <td>5.0</td>\n",
       "      <td>26208690928</td>\n",
       "      <td>274308</td>\n",
       "      <td>2012-10-22</td>\n",
       "      <td>1</td>\n",
       "      <td>2</td>\n",
       "      <td>2</td>\n",
       "      <td>898</td>\n",
       "      <td>188.580</td>\n",
       "      <td>1984.580</td>\n",
       "      <td>MBR</td>\n",
       "      <td>Footwear</td>\n",
       "      <td>Mens</td>\n",
       "    </tr>\n",
       "    <tr>\n",
       "      <td>23051</td>\n",
       "      <td>274308</td>\n",
       "      <td>1992-12-29</td>\n",
       "      <td>F</td>\n",
       "      <td>5.0</td>\n",
       "      <td>57358822237</td>\n",
       "      <td>274308</td>\n",
       "      <td>2012-05-09</td>\n",
       "      <td>1</td>\n",
       "      <td>2</td>\n",
       "      <td>4</td>\n",
       "      <td>876</td>\n",
       "      <td>367.920</td>\n",
       "      <td>3871.920</td>\n",
       "      <td>e-Shop</td>\n",
       "      <td>Footwear</td>\n",
       "      <td>Mens</td>\n",
       "    </tr>\n",
       "    <tr>\n",
       "      <td>23052</td>\n",
       "      <td>274308</td>\n",
       "      <td>1992-12-29</td>\n",
       "      <td>F</td>\n",
       "      <td>5.0</td>\n",
       "      <td>58160544337</td>\n",
       "      <td>274308</td>\n",
       "      <td>2012-04-07</td>\n",
       "      <td>12</td>\n",
       "      <td>5</td>\n",
       "      <td>5</td>\n",
       "      <td>588</td>\n",
       "      <td>308.700</td>\n",
       "      <td>3248.700</td>\n",
       "      <td>e-Shop</td>\n",
       "      <td>Books</td>\n",
       "      <td>Academic</td>\n",
       "    </tr>\n",
       "  </tbody>\n",
       "</table>\n",
       "</div>"
      ],
      "text/plain": [
       "       customer_Id        DOB Gender  city_code  transaction_id  cust_id  \\\n",
       "23043       270476 1992-12-25      F        3.0     78034405353   270476   \n",
       "23044       270476 1992-12-25      F        3.0      3359888057   270476   \n",
       "23045       270476 1992-12-25      F        3.0     22883386455   270476   \n",
       "23046       270476 1992-12-25      F        3.0     19725194268   270476   \n",
       "23047       270476 1992-12-25      F        3.0     85475160771   270476   \n",
       "23048       269626 1992-12-27      F        5.0     71369029396   269626   \n",
       "23049       269626 1992-12-27      F        5.0     94134051896   269626   \n",
       "23050       274308 1992-12-29      F        5.0     26208690928   274308   \n",
       "23051       274308 1992-12-29      F        5.0     57358822237   274308   \n",
       "23052       274308 1992-12-29      F        5.0     58160544337   274308   \n",
       "\n",
       "       tran_date  prod_subcat_code  prod_cat_code  Qty  Rate      Tax  \\\n",
       "23043 2013-08-13                11              6    1   971  101.955   \n",
       "23044 2013-03-16                10              3    4   361  151.620   \n",
       "23045 2012-05-22                 4              2    4   898  377.160   \n",
       "23046 2012-02-21                 4              4    4   618  259.560   \n",
       "23047 2011-09-08                 5              3    5  1354  710.850   \n",
       "23048 2011-10-18                12              6    1   638   66.990   \n",
       "23049 2011-07-07                 3              1    3  1078  339.570   \n",
       "23050 2012-10-22                 1              2    2   898  188.580   \n",
       "23051 2012-05-09                 1              2    4   876  367.920   \n",
       "23052 2012-04-07                12              5    5   588  308.700   \n",
       "\n",
       "       total_amt      Store_type          prod_cat      prod_subcat  \n",
       "23043   1072.955        TeleShop  Home and kitchen             Bath  \n",
       "23044   1595.620             MBR       Electronics  Audio and video  \n",
       "23045   3969.160  Flagship store          Footwear             Kids  \n",
       "23046   2731.560          e-Shop              Bags            Women  \n",
       "23047   7480.850  Flagship store       Electronics        Computers  \n",
       "23048    704.990          e-Shop  Home and kitchen            Tools  \n",
       "23049   3573.570             MBR          Clothing             Kids  \n",
       "23050   1984.580             MBR          Footwear             Mens  \n",
       "23051   3871.920          e-Shop          Footwear             Mens  \n",
       "23052   3248.700          e-Shop             Books         Academic  "
      ]
     },
     "execution_count": 130,
     "metadata": {},
     "output_type": "execute_result"
    }
   ],
   "source": [
    "customer_final.tail(10)"
   ]
  },
  {
   "cell_type": "markdown",
   "metadata": {},
   "source": [
    "###  c. “Five-number summary” for continuous variables (min, Q1, median, Q3 and max)"
   ]
  },
  {
   "cell_type": "code",
   "execution_count": 123,
   "metadata": {},
   "outputs": [
    {
     "data": {
      "text/html": [
       "<div>\n",
       "<style scoped>\n",
       "    .dataframe tbody tr th:only-of-type {\n",
       "        vertical-align: middle;\n",
       "    }\n",
       "\n",
       "    .dataframe tbody tr th {\n",
       "        vertical-align: top;\n",
       "    }\n",
       "\n",
       "    .dataframe thead th {\n",
       "        text-align: right;\n",
       "    }\n",
       "</style>\n",
       "<table border=\"1\" class=\"dataframe\">\n",
       "  <thead>\n",
       "    <tr style=\"text-align: right;\">\n",
       "      <th></th>\n",
       "      <th>customer_Id</th>\n",
       "      <th>city_code</th>\n",
       "      <th>transaction_id</th>\n",
       "      <th>cust_id</th>\n",
       "      <th>prod_subcat_code</th>\n",
       "      <th>prod_cat_code</th>\n",
       "      <th>Qty</th>\n",
       "      <th>Rate</th>\n",
       "      <th>Tax</th>\n",
       "      <th>total_amt</th>\n",
       "    </tr>\n",
       "  </thead>\n",
       "  <tbody>\n",
       "    <tr>\n",
       "      <td>count</td>\n",
       "      <td>23053.000000</td>\n",
       "      <td>23045.000000</td>\n",
       "      <td>2.305300e+04</td>\n",
       "      <td>23053.000000</td>\n",
       "      <td>23053.000000</td>\n",
       "      <td>23053.000000</td>\n",
       "      <td>23053.000000</td>\n",
       "      <td>23053.000000</td>\n",
       "      <td>23053.000000</td>\n",
       "      <td>23053.000000</td>\n",
       "    </tr>\n",
       "    <tr>\n",
       "      <td>mean</td>\n",
       "      <td>271021.746497</td>\n",
       "      <td>5.482534</td>\n",
       "      <td>5.007348e+10</td>\n",
       "      <td>271021.746497</td>\n",
       "      <td>6.149091</td>\n",
       "      <td>3.763632</td>\n",
       "      <td>2.432395</td>\n",
       "      <td>636.369713</td>\n",
       "      <td>248.667192</td>\n",
       "      <td>2107.308002</td>\n",
       "    </tr>\n",
       "    <tr>\n",
       "      <td>std</td>\n",
       "      <td>2431.692059</td>\n",
       "      <td>2.863499</td>\n",
       "      <td>2.898194e+10</td>\n",
       "      <td>2431.692059</td>\n",
       "      <td>3.726372</td>\n",
       "      <td>1.677016</td>\n",
       "      <td>2.268406</td>\n",
       "      <td>622.363498</td>\n",
       "      <td>187.177773</td>\n",
       "      <td>2507.561264</td>\n",
       "    </tr>\n",
       "    <tr>\n",
       "      <td>min</td>\n",
       "      <td>266783.000000</td>\n",
       "      <td>1.000000</td>\n",
       "      <td>3.268991e+06</td>\n",
       "      <td>266783.000000</td>\n",
       "      <td>1.000000</td>\n",
       "      <td>1.000000</td>\n",
       "      <td>-5.000000</td>\n",
       "      <td>-1499.000000</td>\n",
       "      <td>7.350000</td>\n",
       "      <td>-8270.925000</td>\n",
       "    </tr>\n",
       "    <tr>\n",
       "      <td>25%</td>\n",
       "      <td>268935.000000</td>\n",
       "      <td>3.000000</td>\n",
       "      <td>2.493864e+10</td>\n",
       "      <td>268935.000000</td>\n",
       "      <td>3.000000</td>\n",
       "      <td>2.000000</td>\n",
       "      <td>1.000000</td>\n",
       "      <td>312.000000</td>\n",
       "      <td>98.280000</td>\n",
       "      <td>762.450000</td>\n",
       "    </tr>\n",
       "    <tr>\n",
       "      <td>50%</td>\n",
       "      <td>270980.000000</td>\n",
       "      <td>5.000000</td>\n",
       "      <td>5.009313e+10</td>\n",
       "      <td>270980.000000</td>\n",
       "      <td>5.000000</td>\n",
       "      <td>4.000000</td>\n",
       "      <td>3.000000</td>\n",
       "      <td>710.000000</td>\n",
       "      <td>199.080000</td>\n",
       "      <td>1754.740000</td>\n",
       "    </tr>\n",
       "    <tr>\n",
       "      <td>75%</td>\n",
       "      <td>273114.000000</td>\n",
       "      <td>8.000000</td>\n",
       "      <td>7.533000e+10</td>\n",
       "      <td>273114.000000</td>\n",
       "      <td>10.000000</td>\n",
       "      <td>5.000000</td>\n",
       "      <td>4.000000</td>\n",
       "      <td>1109.000000</td>\n",
       "      <td>365.715000</td>\n",
       "      <td>3569.150000</td>\n",
       "    </tr>\n",
       "    <tr>\n",
       "      <td>max</td>\n",
       "      <td>275265.000000</td>\n",
       "      <td>10.000000</td>\n",
       "      <td>9.998755e+10</td>\n",
       "      <td>275265.000000</td>\n",
       "      <td>12.000000</td>\n",
       "      <td>6.000000</td>\n",
       "      <td>5.000000</td>\n",
       "      <td>1500.000000</td>\n",
       "      <td>787.500000</td>\n",
       "      <td>8287.500000</td>\n",
       "    </tr>\n",
       "  </tbody>\n",
       "</table>\n",
       "</div>"
      ],
      "text/plain": [
       "         customer_Id     city_code  transaction_id        cust_id  \\\n",
       "count   23053.000000  23045.000000    2.305300e+04   23053.000000   \n",
       "mean   271021.746497      5.482534    5.007348e+10  271021.746497   \n",
       "std      2431.692059      2.863499    2.898194e+10    2431.692059   \n",
       "min    266783.000000      1.000000    3.268991e+06  266783.000000   \n",
       "25%    268935.000000      3.000000    2.493864e+10  268935.000000   \n",
       "50%    270980.000000      5.000000    5.009313e+10  270980.000000   \n",
       "75%    273114.000000      8.000000    7.533000e+10  273114.000000   \n",
       "max    275265.000000     10.000000    9.998755e+10  275265.000000   \n",
       "\n",
       "       prod_subcat_code  prod_cat_code           Qty          Rate  \\\n",
       "count      23053.000000   23053.000000  23053.000000  23053.000000   \n",
       "mean           6.149091       3.763632      2.432395    636.369713   \n",
       "std            3.726372       1.677016      2.268406    622.363498   \n",
       "min            1.000000       1.000000     -5.000000  -1499.000000   \n",
       "25%            3.000000       2.000000      1.000000    312.000000   \n",
       "50%            5.000000       4.000000      3.000000    710.000000   \n",
       "75%           10.000000       5.000000      4.000000   1109.000000   \n",
       "max           12.000000       6.000000      5.000000   1500.000000   \n",
       "\n",
       "                Tax     total_amt  \n",
       "count  23053.000000  23053.000000  \n",
       "mean     248.667192   2107.308002  \n",
       "std      187.177773   2507.561264  \n",
       "min        7.350000  -8270.925000  \n",
       "25%       98.280000    762.450000  \n",
       "50%      199.080000   1754.740000  \n",
       "75%      365.715000   3569.150000  \n",
       "max      787.500000   8287.500000  "
      ]
     },
     "execution_count": 123,
     "metadata": {},
     "output_type": "execute_result"
    }
   ],
   "source": [
    "customer_final.describe()"
   ]
  },
  {
   "cell_type": "markdown",
   "metadata": {},
   "source": [
    "### d. Frequency tables for all the categorical variables"
   ]
  },
  {
   "cell_type": "code",
   "execution_count": 131,
   "metadata": {},
   "outputs": [
    {
     "data": {
      "text/plain": [
       "Gender         11811\n",
       "Store_type      9311\n",
       "prod_cat        6069\n",
       "prod_subcat     3048\n",
       "Name: freq, dtype: object"
      ]
     },
     "execution_count": 131,
     "metadata": {},
     "output_type": "execute_result"
    }
   ],
   "source": [
    "customer_final.loc[:,customer_final.dtypes==\"object\"].describe().loc['freq']"
   ]
  },
  {
   "cell_type": "markdown",
   "metadata": {},
   "source": [
    "### 3. Generate histograms for all continuous variables and frequency bars for categorical variables. "
   ]
  },
  {
   "cell_type": "code",
   "execution_count": 135,
   "metadata": {},
   "outputs": [],
   "source": [
    "#listed continuos variable\n",
    "conti_var = customer_final.loc[:,['prod_subcat_code','prod_cat_code', 'Qty', 'Rate', 'Tax', 'total_amt']].columns"
   ]
  },
  {
   "cell_type": "code",
   "execution_count": 140,
   "metadata": {},
   "outputs": [
    {
     "data": {
      "image/png": "[encoded data removed]",
      "text/plain": [
       "<Figure size 432x288 with 1 Axes>"
      ]
     },
     "metadata": {
      "needs_background": "light"
     },
     "output_type": "display_data"
    },
    {
     "data": {
      "image/png": "[encoded data removed]",
      "text/plain": [
       "<Figure size 432x288 with 1 Axes>"
      ]
     },
     "metadata": {
      "needs_background": "light"
     },
     "output_type": "display_data"
    },
    {
     "data": {
      "image/png": "[encoded data removed]",
      "text/plain": [
       "<Figure size 432x288 with 1 Axes>"
      ]
     },
     "metadata": {
      "needs_background": "light"
     },
     "output_type": "display_data"
    },
    {
     "data": {
      "image/png": "[encoded data removed]",
      "text/plain": [
       "<Figure size 432x288 with 1 Axes>"
      ]
     },
     "metadata": {
      "needs_background": "light"
     },
     "output_type": "display_data"
    },
    {
     "data": {
      "image/png": "[encoded data removed]",
      "text/plain": [
       "<Figure size 432x288 with 1 Axes>"
      ]
     },
     "metadata": {
      "needs_background": "light"
     },
     "output_type": "display_data"
    },
    {
     "data": {
      "image/png": "[encoded data removed]",
      "text/plain": [
       "<Figure size 432x288 with 1 Axes>"
      ]
     },
     "metadata": {
      "needs_background": "light"
     },
     "output_type": "display_data"
    }
   ],
   "source": [
    "for i in conti_var:\n",
    "    customer_final[i].plot(kind = 'hist')\n",
    "    plt.title(i)\n",
    "    plt.show()"
   ]
  },
  {
   "cell_type": "code",
   "execution_count": 182,
   "metadata": {},
   "outputs": [
    {
     "data": {
      "text/plain": [
       "Index(['Gender', 'Store_type', 'prod_cat', 'prod_subcat'], dtype='object')"
      ]
     },
     "execution_count": 182,
     "metadata": {},
     "output_type": "execute_result"
    }
   ],
   "source": [
    "#listed out categorical variables\n",
    "cat_var = customer_final.loc[:,customer_final.dtypes==\"object\"].columns\n",
    "cat_var"
   ]
  },
  {
   "cell_type": "code",
   "execution_count": 184,
   "metadata": {},
   "outputs": [
    {
     "data": {
      "image/png": "[encoded data removed]",
      "text/plain": [
       "<Figure size 432x288 with 1 Axes>"
      ]
     },
     "metadata": {
      "needs_background": "light"
     },
     "output_type": "display_data"
    },
    {
     "data": {
      "image/png": "[encoded data removed]",
      "text/plain": [
       "<Figure size 432x288 with 1 Axes>"
      ]
     },
     "metadata": {
      "needs_background": "light"
     },
     "output_type": "display_data"
    },
    {
     "data": {
      "image/png": "[encoded data removed]",
      "text/plain": [
       "<Figure size 432x288 with 1 Axes>"
      ]
     },
     "metadata": {
      "needs_background": "light"
     },
     "output_type": "display_data"
    },
    {
     "data": {
      "image/png": "[encoded data removed]",
      "text/plain": [
       "<Figure size 432x288 with 1 Axes>"
      ]
     },
     "metadata": {
      "needs_background": "light"
     },
     "output_type": "display_data"
    }
   ],
   "source": [
    "for i in cat_var:\n",
    "    customer_final[i].value_counts().plot(kind = 'bar')\n",
    "    plt.title(i)\n",
    "    plt.show()"
   ]
  },
  {
   "cell_type": "markdown",
   "metadata": {},
   "source": [
    "### 4. Calculate the following information using the merged dataset : \n",
    "### a. Time period of the available transaction data"
   ]
  },
  {
   "cell_type": "code",
   "execution_count": 203,
   "metadata": {},
   "outputs": [
    {
     "name": "stdout",
     "output_type": "stream",
     "text": [
      "Time period of the available transaction data is from 2014-12-02 to 2011-01-02\n"
     ]
    }
   ],
   "source": [
    "max_date= customer_final[\"tran_date\"].max()\n",
    "min_date= customer_final[\"tran_date\"].min()\n",
    "print(\"Time period of the available transaction data is from \"+ str(max_date.date()) + \" to \" + str(min_date.date()))"
   ]
  },
  {
   "cell_type": "markdown",
   "metadata": {},
   "source": [
    "### b. Count of transactions where the total amount of transaction was negative "
   ]
  },
  {
   "cell_type": "code",
   "execution_count": 209,
   "metadata": {},
   "outputs": [
    {
     "data": {
      "text/plain": [
       "2177"
      ]
     },
     "execution_count": 209,
     "metadata": {},
     "output_type": "execute_result"
    }
   ],
   "source": [
    "customer_final[customer_final.total_amt < 0]['transaction_id'].count()"
   ]
  },
  {
   "cell_type": "markdown",
   "metadata": {},
   "source": [
    "### 5. Analyze which product categories are more popular among females vs male customers."
   ]
  },
  {
   "cell_type": "code",
   "execution_count": 251,
   "metadata": {},
   "outputs": [
    {
     "data": {
      "text/html": [
       "<div>\n",
       "<style scoped>\n",
       "    .dataframe tbody tr th:only-of-type {\n",
       "        vertical-align: middle;\n",
       "    }\n",
       "\n",
       "    .dataframe tbody tr th {\n",
       "        vertical-align: top;\n",
       "    }\n",
       "\n",
       "    .dataframe thead th {\n",
       "        text-align: right;\n",
       "    }\n",
       "</style>\n",
       "<table border=\"1\" class=\"dataframe\">\n",
       "  <thead>\n",
       "    <tr style=\"text-align: right;\">\n",
       "      <th></th>\n",
       "      <th>Gender</th>\n",
       "      <th>prod_cat</th>\n",
       "      <th>Qty</th>\n",
       "    </tr>\n",
       "  </thead>\n",
       "  <tbody>\n",
       "    <tr>\n",
       "      <td>7</td>\n",
       "      <td>M</td>\n",
       "      <td>Books</td>\n",
       "      <td>3116</td>\n",
       "    </tr>\n",
       "    <tr>\n",
       "      <td>1</td>\n",
       "      <td>F</td>\n",
       "      <td>Books</td>\n",
       "      <td>2949</td>\n",
       "    </tr>\n",
       "  </tbody>\n",
       "</table>\n",
       "</div>"
      ],
      "text/plain": [
       "  Gender prod_cat   Qty\n",
       "7      M    Books  3116\n",
       "1      F    Books  2949"
      ]
     },
     "execution_count": 251,
     "metadata": {},
     "output_type": "execute_result"
    }
   ],
   "source": [
    "#group by product and gender\n",
    "cat_det = customer_final.groupby([\"Gender\",\"prod_cat\"])[[\"Qty\"]].count().reset_index().sort_values(by=[\"Qty\"],ascending=False)\n",
    "\n",
    "cat_det.head(2)"
   ]
  },
  {
   "cell_type": "markdown",
   "metadata": {},
   "source": [
    "### 6. Which City code has the maximum customers and what was the percentage of customers from that city?"
   ]
  },
  {
   "cell_type": "code",
   "execution_count": 321,
   "metadata": {},
   "outputs": [],
   "source": [
    "# get city code that has max customers\n",
    "city_max = customer_final['city_code'].value_counts().iloc[:1,]\n",
    "# Calculate percentage of customer \n",
    "(city_max/len(customer_final))*100"
   ]
  }
 ],
 "metadata": {
  "kernelspec": {
   "display_name": "Python 3",
   "language": "python",
   "name": "python3"
  },
  "language_info": {
   "codemirror_mode": {
    "name": "ipython",
    "version": 3
   },
   "file_extension": ".py",
   "mimetype": "text/x-python",
   "name": "python",
   "nbconvert_exporter": "python",
   "pygments_lexer": "ipython3",
   "version": "3.7.4"
  }
 },
 "nbformat": 4,
 "nbformat_minor": 2
}
